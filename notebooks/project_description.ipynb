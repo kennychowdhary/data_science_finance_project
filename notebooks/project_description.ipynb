{
 "cells": [
  {
   "cell_type": "markdown",
   "id": "26980627-2981-48f2-b987-b398d7280294",
   "metadata": {},
   "source": [
    "# Creating candlestick charts for financial analysis"
   ]
  },
  {
   "cell_type": "markdown",
   "id": "fc3b11bb-2bb1-486f-ade7-cc7dbaa0eb06",
   "metadata": {},
   "source": [
    "In this project, we are going to create candlestick plots which show the minute-by-minute activity of a particular stock. We are going to\n",
    "\n",
    "- Load the relevant stock data\n",
    "- Group the data in 15 minute increments\n",
    "- For each increment, compute the open and close price\n",
    "- For each increment, compute the min and max price over that 15 minute period\n",
    "- Plot the bar plots, i.e, candlesticks, over time, overlayed with the min/max\n",
    "\n",
    "To do this, we will need to import a few libraries for processing the data:\n",
    "\n",
    "```python\n",
    "import yfinance as yf\n",
    "import pandas as pd\n",
    "import numpy as np\n",
    "```\n",
    "\n",
    "To get you started, to download the historical data run\n",
    "\n",
    "```python\n",
    "stock_data = yf.download(tickers=STOCK_SYMBOL, period=\"1d\", interval=\"1m\")\n",
    "```\n",
    "\n",
    "where the ticker symbol can be anything, e.g., SPY, NVDA, etc. This will return the stock price at 1 minute intervals for the last day. The output will be a ```pandas.DataFrame``` with columns for the open, close, etc. prices, indexed by the datetime. Use the ```pandas.Grouper``` function to group the dataset in 15 minute increments and use the ```agg``` function to perform operations on those groups, e.g., to get the lowest or first price within that 15 minute interval, etc. \n",
    "\n",
    "Finally, for plotting, feel free to use whatever you want, but try to use an interactive plotting library like vega altair, which allows you to hover over points on the graph to see the corresponding values. This last part can be a little tricky but it'll look nice. Here is an example. \n",
    "\n",
    "<a href=\"candlestick.html\">Candlestick Plot Example</a>"
   ]
  }
 ],
 "metadata": {
  "kernelspec": {
   "display_name": "Python 3 (ipykernel)",
   "language": "python",
   "name": "python3"
  },
  "language_info": {
   "codemirror_mode": {
    "name": "ipython",
    "version": 3
   },
   "file_extension": ".py",
   "mimetype": "text/x-python",
   "name": "python",
   "nbconvert_exporter": "python",
   "pygments_lexer": "ipython3",
   "version": "3.9.10"
  }
 },
 "nbformat": 4,
 "nbformat_minor": 5
}
