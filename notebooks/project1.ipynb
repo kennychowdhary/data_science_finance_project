{
 "cells": [
  {
   "cell_type": "markdown",
   "id": "85f34fde-a88c-4a08-a279-1850970b046d",
   "metadata": {},
   "source": [
    "# Creating candlestick charts for financial analysis"
   ]
  },
  {
   "cell_type": "markdown",
   "id": "4d8afe82-5568-4a4a-b10a-859be2db1cdb",
   "metadata": {},
   "source": [
    "In this project, we are going to create candlestick plots which show the minute-by-minute activity of a particular stock. We are going to\n",
    "\n",
    "- Load the relevant stock data\n",
    "- Group the data in 15 minute increments\n",
    "- For each increment, compute the open and close price\n",
    "- For each increment, compute the min and max price over that 15 minute period\n",
    "- Plot the bar plots, i.e, candlesticks, over time, overlayed with the min/max\n",
    "\n",
    "To do this, we will need to import a few libraries for processing the data:\n",
    "\n",
    "```python\n",
    "import yfinance as yf\n",
    "import pandas as pd\n",
    "import numpy as np\n",
    "```\n",
    "\n",
    "To get you started, to download the historical data run\n",
    "\n",
    "```python\n",
    "stock_data = yf.download(tickers=STOCK_SYMBOL, period=\"1d\", interval=\"1m\")\n",
    "```\n",
    "\n",
    "where the ticker symbol can be anything, e.g., SPY, NVDA, etc. This will return the stock price at 1 minute intervals for the last day. The output will be a ```pandas.DataFrame``` with columns for the open, close, etc. prices, indexed by the datetime. Use the ```pandas.Grouper``` function to group the dataset in 15 minute increments and use the ```agg``` function to perform operations on those groups, e.g., to get the lowest or first price within that 15 minute interval, etc. "
   ]
  },
  {
   "cell_type": "code",
   "execution_count": 71,
   "id": "6919a8e7-9180-4603-ba36-e3ccf05458b5",
   "metadata": {},
   "outputs": [
    {
     "data": {
      "text/html": [
       "<a href=\"candlestick.html\">Candlestick Plot Example</a>\n"
      ],
      "text/plain": [
       "<IPython.core.display.HTML object>"
      ]
     },
     "metadata": {},
     "output_type": "display_data"
    }
   ],
   "source": [
    "%%html\n",
    "<a href=\"candlestick.html\">Candlestick Plot Example</a>"
   ]
  },
  {
   "cell_type": "code",
   "execution_count": 70,
   "id": "62a87f1c-37f8-4249-b519-ecaa9850ec52",
   "metadata": {},
   "outputs": [
    {
     "data": {
      "text/plain": [
       "RendererRegistry.enable('html')"
      ]
     },
     "execution_count": 70,
     "metadata": {},
     "output_type": "execute_result"
    }
   ],
   "source": [
    "alt.renderers.enable('html')"
   ]
  },
  {
   "cell_type": "code",
   "execution_count": 3,
   "id": "4d3c0936-469c-4e11-a33b-d3a88d671fb2",
   "metadata": {},
   "outputs": [],
   "source": [
    "# Import the yfinance. If you get module not found error the run !pip install yfinance from your Jupyter notebook\n",
    "import yfinance as yf\n",
    "import pandas as pd\n",
    "import numpy as np"
   ]
  },
  {
   "cell_type": "code",
   "execution_count": 25,
   "id": "ffc9e33a-929b-4330-b07f-03f7eccaa58c",
   "metadata": {},
   "outputs": [
    {
     "name": "stdout",
     "output_type": "stream",
     "text": [
      "[*********************100%***********************]  1 of 1 completed\n"
     ]
    }
   ],
   "source": [
    "# get daily, yearly or hourly finance data\n",
    "stock_symbol = \"SPY\"\n",
    "stock_data = yf.download(tickers=stock_symbol, period=\"2d\", interval=\"1m\")"
   ]
  },
  {
   "cell_type": "code",
   "execution_count": 26,
   "id": "6f05a622-7b9f-49c0-a6c7-6e9cba4130c5",
   "metadata": {},
   "outputs": [
    {
     "data": {
      "text/html": [
       "<div>\n",
       "<style scoped>\n",
       "    .dataframe tbody tr th:only-of-type {\n",
       "        vertical-align: middle;\n",
       "    }\n",
       "\n",
       "    .dataframe tbody tr th {\n",
       "        vertical-align: top;\n",
       "    }\n",
       "\n",
       "    .dataframe thead th {\n",
       "        text-align: right;\n",
       "    }\n",
       "</style>\n",
       "<table border=\"1\" class=\"dataframe\">\n",
       "  <thead>\n",
       "    <tr style=\"text-align: right;\">\n",
       "      <th></th>\n",
       "      <th>Open</th>\n",
       "      <th>High</th>\n",
       "      <th>Low</th>\n",
       "      <th>Close</th>\n",
       "      <th>Adj Close</th>\n",
       "      <th>Volume</th>\n",
       "    </tr>\n",
       "    <tr>\n",
       "      <th>Datetime</th>\n",
       "      <th></th>\n",
       "      <th></th>\n",
       "      <th></th>\n",
       "      <th></th>\n",
       "      <th></th>\n",
       "      <th></th>\n",
       "    </tr>\n",
       "  </thead>\n",
       "  <tbody>\n",
       "    <tr>\n",
       "      <th>2024-05-29 09:30:00-04:00</th>\n",
       "      <td>525.679993</td>\n",
       "      <td>525.989990</td>\n",
       "      <td>525.599976</td>\n",
       "      <td>525.979980</td>\n",
       "      <td>525.979980</td>\n",
       "      <td>1502384</td>\n",
       "    </tr>\n",
       "    <tr>\n",
       "      <th>2024-05-29 09:31:00-04:00</th>\n",
       "      <td>525.979980</td>\n",
       "      <td>526.020020</td>\n",
       "      <td>525.789978</td>\n",
       "      <td>525.789978</td>\n",
       "      <td>525.789978</td>\n",
       "      <td>189565</td>\n",
       "    </tr>\n",
       "    <tr>\n",
       "      <th>2024-05-29 09:32:00-04:00</th>\n",
       "      <td>525.789978</td>\n",
       "      <td>525.849976</td>\n",
       "      <td>525.630005</td>\n",
       "      <td>525.780029</td>\n",
       "      <td>525.780029</td>\n",
       "      <td>155171</td>\n",
       "    </tr>\n",
       "    <tr>\n",
       "      <th>2024-05-29 09:33:00-04:00</th>\n",
       "      <td>525.789978</td>\n",
       "      <td>525.815002</td>\n",
       "      <td>525.544006</td>\n",
       "      <td>525.549988</td>\n",
       "      <td>525.549988</td>\n",
       "      <td>170719</td>\n",
       "    </tr>\n",
       "    <tr>\n",
       "      <th>2024-05-29 09:34:00-04:00</th>\n",
       "      <td>525.559998</td>\n",
       "      <td>525.669983</td>\n",
       "      <td>525.460022</td>\n",
       "      <td>525.614990</td>\n",
       "      <td>525.614990</td>\n",
       "      <td>195815</td>\n",
       "    </tr>\n",
       "  </tbody>\n",
       "</table>\n",
       "</div>"
      ],
      "text/plain": [
       "                                 Open        High         Low       Close  \\\n",
       "Datetime                                                                    \n",
       "2024-05-29 09:30:00-04:00  525.679993  525.989990  525.599976  525.979980   \n",
       "2024-05-29 09:31:00-04:00  525.979980  526.020020  525.789978  525.789978   \n",
       "2024-05-29 09:32:00-04:00  525.789978  525.849976  525.630005  525.780029   \n",
       "2024-05-29 09:33:00-04:00  525.789978  525.815002  525.544006  525.549988   \n",
       "2024-05-29 09:34:00-04:00  525.559998  525.669983  525.460022  525.614990   \n",
       "\n",
       "                            Adj Close   Volume  \n",
       "Datetime                                        \n",
       "2024-05-29 09:30:00-04:00  525.979980  1502384  \n",
       "2024-05-29 09:31:00-04:00  525.789978   189565  \n",
       "2024-05-29 09:32:00-04:00  525.780029   155171  \n",
       "2024-05-29 09:33:00-04:00  525.549988   170719  \n",
       "2024-05-29 09:34:00-04:00  525.614990   195815  "
      ]
     },
     "execution_count": 26,
     "metadata": {},
     "output_type": "execute_result"
    }
   ],
   "source": [
    "stock_data.head()"
   ]
  },
  {
   "cell_type": "code",
   "execution_count": 47,
   "id": "4b41e43a-a2d8-4361-8abe-f949c0d31f64",
   "metadata": {},
   "outputs": [],
   "source": [
    "# filter yesterday only\n",
    "import datetime\n",
    "stock_data = stock_data[stock_data.index.date == datetime.date(2024, 5, 29)]"
   ]
  },
  {
   "cell_type": "code",
   "execution_count": 48,
   "id": "f0b04417-34bf-434e-bdf3-f788c3013f47",
   "metadata": {},
   "outputs": [],
   "source": [
    "# data.groupby(pd.Grouper(freq='15Min')).size()\n",
    "df = stock_data.reset_index().groupby(\n",
    "    pd.Grouper(freq='15Min', key=\"Datetime\")\n",
    ").agg(\n",
    "    open=(\"Open\", \"first\"), \n",
    "    close=(\"Close\", \"last\"),\n",
    "    low=(\"Low\", \"min\"),\n",
    "    high=(\"High\", \"max\"),\n",
    ")"
   ]
  },
  {
   "cell_type": "code",
   "execution_count": 66,
   "id": "040a1b75-7ca3-4e37-b495-8bb95e6bc991",
   "metadata": {},
   "outputs": [
    {
     "data": {
      "text/html": [
       "<div>\n",
       "<style scoped>\n",
       "    .dataframe tbody tr th:only-of-type {\n",
       "        vertical-align: middle;\n",
       "    }\n",
       "\n",
       "    .dataframe tbody tr th {\n",
       "        vertical-align: top;\n",
       "    }\n",
       "\n",
       "    .dataframe thead th {\n",
       "        text-align: right;\n",
       "    }\n",
       "</style>\n",
       "<table border=\"1\" class=\"dataframe\">\n",
       "  <thead>\n",
       "    <tr style=\"text-align: right;\">\n",
       "      <th></th>\n",
       "      <th>Datetime</th>\n",
       "      <th>open</th>\n",
       "      <th>close</th>\n",
       "      <th>low</th>\n",
       "      <th>high</th>\n",
       "      <th>return</th>\n",
       "    </tr>\n",
       "  </thead>\n",
       "  <tbody>\n",
       "    <tr>\n",
       "      <th>0</th>\n",
       "      <td>2024-05-29 09:30:00-04:00</td>\n",
       "      <td>525.679993</td>\n",
       "      <td>525.515015</td>\n",
       "      <td>525.424988</td>\n",
       "      <td>526.020020</td>\n",
       "      <td>-0.164978</td>\n",
       "    </tr>\n",
       "    <tr>\n",
       "      <th>1</th>\n",
       "      <td>2024-05-29 09:45:00-04:00</td>\n",
       "      <td>525.510010</td>\n",
       "      <td>526.200012</td>\n",
       "      <td>525.369995</td>\n",
       "      <td>526.419983</td>\n",
       "      <td>0.690002</td>\n",
       "    </tr>\n",
       "    <tr>\n",
       "      <th>2</th>\n",
       "      <td>2024-05-29 10:00:00-04:00</td>\n",
       "      <td>526.205017</td>\n",
       "      <td>526.400024</td>\n",
       "      <td>526.010010</td>\n",
       "      <td>526.543701</td>\n",
       "      <td>0.195007</td>\n",
       "    </tr>\n",
       "    <tr>\n",
       "      <th>3</th>\n",
       "      <td>2024-05-29 10:15:00-04:00</td>\n",
       "      <td>526.424988</td>\n",
       "      <td>526.729980</td>\n",
       "      <td>525.859985</td>\n",
       "      <td>526.969971</td>\n",
       "      <td>0.304993</td>\n",
       "    </tr>\n",
       "    <tr>\n",
       "      <th>4</th>\n",
       "      <td>2024-05-29 10:30:00-04:00</td>\n",
       "      <td>526.755981</td>\n",
       "      <td>526.929993</td>\n",
       "      <td>526.755981</td>\n",
       "      <td>527.304993</td>\n",
       "      <td>0.174011</td>\n",
       "    </tr>\n",
       "  </tbody>\n",
       "</table>\n",
       "</div>"
      ],
      "text/plain": [
       "                   Datetime        open       close         low        high  \\\n",
       "0 2024-05-29 09:30:00-04:00  525.679993  525.515015  525.424988  526.020020   \n",
       "1 2024-05-29 09:45:00-04:00  525.510010  526.200012  525.369995  526.419983   \n",
       "2 2024-05-29 10:00:00-04:00  526.205017  526.400024  526.010010  526.543701   \n",
       "3 2024-05-29 10:15:00-04:00  526.424988  526.729980  525.859985  526.969971   \n",
       "4 2024-05-29 10:30:00-04:00  526.755981  526.929993  526.755981  527.304993   \n",
       "\n",
       "     return  \n",
       "0 -0.164978  \n",
       "1  0.690002  \n",
       "2  0.195007  \n",
       "3  0.304993  \n",
       "4  0.174011  "
      ]
     },
     "execution_count": 66,
     "metadata": {},
     "output_type": "execute_result"
    }
   ],
   "source": [
    "df[\"return\"] = df[\"close\"] - df[\"open\"]\n",
    "df.reset_index().head()"
   ]
  },
  {
   "cell_type": "code",
   "execution_count": 63,
   "id": "9a0194c3-d4a9-4919-a223-c9d21162dbe9",
   "metadata": {},
   "outputs": [
    {
     "data": {
      "text/html": [
       "\n",
       "<style>\n",
       "  #altair-viz-0c5c2c45704e44adac98b164de91d54c.vega-embed {\n",
       "    width: 100%;\n",
       "    display: flex;\n",
       "  }\n",
       "\n",
       "  #altair-viz-0c5c2c45704e44adac98b164de91d54c.vega-embed details,\n",
       "  #altair-viz-0c5c2c45704e44adac98b164de91d54c.vega-embed details summary {\n",
       "    position: relative;\n",
       "  }\n",
       "</style>\n",
       "<div id=\"altair-viz-0c5c2c45704e44adac98b164de91d54c\"></div>\n",
       "<script type=\"text/javascript\">\n",
       "  var VEGA_DEBUG = (typeof VEGA_DEBUG == \"undefined\") ? {} : VEGA_DEBUG;\n",
       "  (function(spec, embedOpt){\n",
       "    let outputDiv = document.currentScript.previousElementSibling;\n",
       "    if (outputDiv.id !== \"altair-viz-0c5c2c45704e44adac98b164de91d54c\") {\n",
       "      outputDiv = document.getElementById(\"altair-viz-0c5c2c45704e44adac98b164de91d54c\");\n",
       "    }\n",
       "    const paths = {\n",
       "      \"vega\": \"https://cdn.jsdelivr.net/npm/vega@5?noext\",\n",
       "      \"vega-lib\": \"https://cdn.jsdelivr.net/npm/vega-lib?noext\",\n",
       "      \"vega-lite\": \"https://cdn.jsdelivr.net/npm/vega-lite@5.17.0?noext\",\n",
       "      \"vega-embed\": \"https://cdn.jsdelivr.net/npm/vega-embed@6?noext\",\n",
       "    };\n",
       "\n",
       "    function maybeLoadScript(lib, version) {\n",
       "      var key = `${lib.replace(\"-\", \"\")}_version`;\n",
       "      return (VEGA_DEBUG[key] == version) ?\n",
       "        Promise.resolve(paths[lib]) :\n",
       "        new Promise(function(resolve, reject) {\n",
       "          var s = document.createElement('script');\n",
       "          document.getElementsByTagName(\"head\")[0].appendChild(s);\n",
       "          s.async = true;\n",
       "          s.onload = () => {\n",
       "            VEGA_DEBUG[key] = version;\n",
       "            return resolve(paths[lib]);\n",
       "          };\n",
       "          s.onerror = () => reject(`Error loading script: ${paths[lib]}`);\n",
       "          s.src = paths[lib];\n",
       "        });\n",
       "    }\n",
       "\n",
       "    function showError(err) {\n",
       "      outputDiv.innerHTML = `<div class=\"error\" style=\"color:red;\">${err}</div>`;\n",
       "      throw err;\n",
       "    }\n",
       "\n",
       "    function displayChart(vegaEmbed) {\n",
       "      vegaEmbed(outputDiv, spec, embedOpt)\n",
       "        .catch(err => showError(`Javascript Error: ${err.message}<br>This usually means there's a typo in your chart specification. See the javascript console for the full traceback.`));\n",
       "    }\n",
       "\n",
       "    if(typeof define === \"function\" && define.amd) {\n",
       "      requirejs.config({paths});\n",
       "      require([\"vega-embed\"], displayChart, err => showError(`Error loading script: ${err.message}`));\n",
       "    } else {\n",
       "      maybeLoadScript(\"vega\", \"5\")\n",
       "        .then(() => maybeLoadScript(\"vega-lite\", \"5.17.0\"))\n",
       "        .then(() => maybeLoadScript(\"vega-embed\", \"6\"))\n",
       "        .catch(showError)\n",
       "        .then(() => displayChart(vegaEmbed));\n",
       "    }\n",
       "  })({\"config\": {\"view\": {\"continuousWidth\": 300, \"continuousHeight\": 300}, \"axis\": {\"labelFontSize\": 12, \"titleFontSize\": 12}}, \"layer\": [{\"mark\": {\"type\": \"rule\", \"size\": 1}, \"encoding\": {\"color\": {\"condition\": {\"test\": \"datum.open <= datum.close\", \"value\": \"#06982d\"}, \"value\": \"#ae1325\"}, \"tooltip\": [{\"field\": \"low\", \"format\": \",.3f\", \"type\": \"quantitative\"}, {\"field\": \"high\", \"format\": \",.3f\", \"type\": \"quantitative\"}], \"x\": {\"axis\": {\"format\": \"%H:%M\", \"labelAngle\": -80}, \"field\": \"Datetime\", \"title\": \"Datetime\", \"type\": \"temporal\"}, \"y\": {\"axis\": {\"titleAngle\": 0, \"titlePadding\": 20}, \"field\": \"low\", \"scale\": {\"zero\": false}, \"title\": \"SPY\", \"type\": \"quantitative\"}, \"y2\": {\"field\": \"high\"}}, \"name\": \"view_10\"}, {\"mark\": {\"type\": \"bar\", \"size\": 10}, \"encoding\": {\"color\": {\"condition\": {\"test\": \"datum.open <= datum.close\", \"value\": \"#06982d\"}, \"value\": \"#ae1325\"}, \"tooltip\": [{\"field\": \"close\", \"format\": \",.3f\", \"type\": \"quantitative\"}, {\"field\": \"open\", \"format\": \",.3f\", \"type\": \"quantitative\"}], \"x\": {\"axis\": {\"format\": \"%H:%M\", \"labelAngle\": -80}, \"field\": \"Datetime\", \"title\": \"Datetime\", \"type\": \"temporal\"}, \"y\": {\"field\": \"open\", \"type\": \"quantitative\"}, \"y2\": {\"field\": \"close\"}}}], \"data\": {\"name\": \"data-2668d7a3e21855167fa538c864552d17\"}, \"height\": 300, \"params\": [{\"name\": \"param_10\", \"select\": {\"type\": \"interval\", \"encodings\": [\"x\", \"y\"]}, \"bind\": \"scales\", \"views\": [\"view_10\"]}], \"width\": 800, \"$schema\": \"https://vega.github.io/schema/vega-lite/v5.17.0.json\", \"datasets\": {\"data-2668d7a3e21855167fa538c864552d17\": [{\"Datetime\": \"2024-05-29T09:30:00-04:00\", \"open\": 525.6799926757812, \"close\": 525.5150146484375, \"low\": 525.4249877929688, \"high\": 526.02001953125, \"return\": -0.16497802734375}, {\"Datetime\": \"2024-05-29T09:45:00-04:00\", \"open\": 525.510009765625, \"close\": 526.2000122070312, \"low\": 525.3699951171875, \"high\": 526.4199829101562, \"return\": 0.69000244140625}, {\"Datetime\": \"2024-05-29T10:00:00-04:00\", \"open\": 526.2050170898438, \"close\": 526.4000244140625, \"low\": 526.010009765625, \"high\": 526.543701171875, \"return\": 0.19500732421875}, {\"Datetime\": \"2024-05-29T10:15:00-04:00\", \"open\": 526.4249877929688, \"close\": 526.72998046875, \"low\": 525.8599853515625, \"high\": 526.969970703125, \"return\": 0.30499267578125}, {\"Datetime\": \"2024-05-29T10:30:00-04:00\", \"open\": 526.7559814453125, \"close\": 526.9299926757812, \"low\": 526.7559814453125, \"high\": 527.3049926757812, \"return\": 0.17401123046875}, {\"Datetime\": \"2024-05-29T10:45:00-04:00\", \"open\": 526.8300170898438, \"close\": 527.030029296875, \"low\": 526.7000122070312, \"high\": 527.22998046875, \"return\": 0.20001220703125}, {\"Datetime\": \"2024-05-29T11:00:00-04:00\", \"open\": 527.02001953125, \"close\": 526.1500244140625, \"low\": 526.0599975585938, \"high\": 527.0700073242188, \"return\": -0.8699951171875}, {\"Datetime\": \"2024-05-29T11:15:00-04:00\", \"open\": 526.1599731445312, \"close\": 526.47998046875, \"low\": 526.030029296875, \"high\": 526.7150268554688, \"return\": 0.32000732421875}, {\"Datetime\": \"2024-05-29T11:30:00-04:00\", \"open\": 526.47998046875, \"close\": 526.4600219726562, \"low\": 526.1510009765625, \"high\": 526.6699829101562, \"return\": -0.01995849609375}, {\"Datetime\": \"2024-05-29T11:45:00-04:00\", \"open\": 526.4500122070312, \"close\": 526.5999755859375, \"low\": 526.1699829101562, \"high\": 526.7249755859375, \"return\": 0.14996337890625}, {\"Datetime\": \"2024-05-29T12:00:00-04:00\", \"open\": 526.6099853515625, \"close\": 526.0349731445312, \"low\": 526.010009765625, \"high\": 526.6099853515625, \"return\": -0.57501220703125}, {\"Datetime\": \"2024-05-29T12:15:00-04:00\", \"open\": 526.030029296875, \"close\": 526.8200073242188, \"low\": 525.97998046875, \"high\": 526.9199829101562, \"return\": 0.78997802734375}, {\"Datetime\": \"2024-05-29T12:30:00-04:00\", \"open\": 526.8200073242188, \"close\": 526.780029296875, \"low\": 526.6199951171875, \"high\": 527.1649780273438, \"return\": -0.03997802734375}, {\"Datetime\": \"2024-05-29T12:45:00-04:00\", \"open\": 526.77001953125, \"close\": 527.0999145507812, \"low\": 526.760009765625, \"high\": 527.3099975585938, \"return\": 0.32989501953125}, {\"Datetime\": \"2024-05-29T13:00:00-04:00\", \"open\": 527.0999755859375, \"close\": 526.489990234375, \"low\": 526.3800048828125, \"high\": 527.17041015625, \"return\": -0.6099853515625}, {\"Datetime\": \"2024-05-29T13:15:00-04:00\", \"open\": 526.4589233398438, \"close\": 526.9301147460938, \"low\": 526.3400268554688, \"high\": 526.9600219726562, \"return\": 0.47119140625}, {\"Datetime\": \"2024-05-29T13:30:00-04:00\", \"open\": 526.9299926757812, \"close\": 526.3150024414062, \"low\": 526.1699829101562, \"high\": 526.9299926757812, \"return\": -0.614990234375}, {\"Datetime\": \"2024-05-29T13:45:00-04:00\", \"open\": 526.3200073242188, \"close\": 527.010009765625, \"low\": 526.25, \"high\": 527.2000122070312, \"return\": 0.69000244140625}, {\"Datetime\": \"2024-05-29T14:00:00-04:00\", \"open\": 527.030029296875, \"close\": 526.969970703125, \"low\": 526.780029296875, \"high\": 527.1400146484375, \"return\": -0.06005859375}, {\"Datetime\": \"2024-05-29T14:15:00-04:00\", \"open\": 526.9650268554688, \"close\": 526.5900268554688, \"low\": 526.5900268554688, \"high\": 526.9849853515625, \"return\": -0.375}, {\"Datetime\": \"2024-05-29T14:30:00-04:00\", \"open\": 526.5800170898438, \"close\": 526.5798950195312, \"low\": 526.219970703125, \"high\": 526.8099975585938, \"return\": -0.0001220703125}, {\"Datetime\": \"2024-05-29T14:45:00-04:00\", \"open\": 526.5700073242188, \"close\": 526.1649780273438, \"low\": 526.0499877929688, \"high\": 526.5750122070312, \"return\": -0.405029296875}, {\"Datetime\": \"2024-05-29T15:00:00-04:00\", \"open\": 526.1649780273438, \"close\": 526.4600219726562, \"low\": 526.010009765625, \"high\": 526.5, \"return\": 0.2950439453125}, {\"Datetime\": \"2024-05-29T15:15:00-04:00\", \"open\": 526.469970703125, \"close\": 526.8599853515625, \"low\": 526.3400268554688, \"high\": 527.1900024414062, \"return\": 0.3900146484375}, {\"Datetime\": \"2024-05-29T15:30:00-04:00\", \"open\": 526.8499755859375, \"close\": 526.7050170898438, \"low\": 526.5399780273438, \"high\": 527.1900024414062, \"return\": -0.14495849609375}, {\"Datetime\": \"2024-05-29T15:45:00-04:00\", \"open\": 526.7000122070312, \"close\": 526.1099853515625, \"low\": 525.5599975585938, \"high\": 526.8099975585938, \"return\": -0.59002685546875}]}}, {\"mode\": \"vega-lite\"});\n",
       "</script>"
      ],
      "text/plain": [
       "alt.LayerChart(...)"
      ]
     },
     "execution_count": 63,
     "metadata": {},
     "output_type": "execute_result"
    }
   ],
   "source": [
    "# let's plot\n",
    "import altair as alt\n",
    "from vega_datasets import data\n",
    "\n",
    "# source = data.ohlc()\n",
    "# display(source.head())\n",
    "source = df.reset_index()\n",
    "\n",
    "open_close_color = alt.condition(\n",
    "    \"datum.open <= datum.close\",\n",
    "    alt.value(\"#06982d\"),\n",
    "    alt.value(\"#ae1325\")\n",
    ")\n",
    "\n",
    "base = alt.Chart(source).encode(\n",
    "    alt.X('Datetime:T')\n",
    "        .axis(format='%H:%M', labelAngle=-80)\n",
    "        .title('Datetime'),\n",
    "    color=open_close_color\n",
    ")\n",
    "\n",
    "rule = base.mark_rule(size=1).encode(\n",
    "    alt.Y('low:Q')\n",
    "        .axis(titleAngle=0, titlePadding=20)\n",
    "        .title(f'{stock_symbol}')\n",
    "        .scale(zero=False),\n",
    "    alt.Y2('high:Q'),\n",
    "    tooltip=[\n",
    "            alt.Tooltip(\"low:Q\", format=\",.3f\"),\n",
    "            alt.Tooltip(\"high:Q\", format=\",.3f\")\n",
    "    ]\n",
    ")\n",
    "\n",
    "bar = base.mark_bar(size=10).encode(\n",
    "    alt.Y('open:Q'),\n",
    "    alt.Y2('close:Q'),\n",
    "    tooltip=[\n",
    "        alt.Tooltip(\"close:Q\", format=\",.3f\"),\n",
    "        alt.Tooltip(\"open:Q\", format=\",.3f\")\n",
    "    ]\n",
    ")\n",
    "\n",
    "candlestick_plot = (rule+bar).properties(\n",
    "    width=800,\n",
    "    height=300\n",
    ").configure_axis(\n",
    "    labelFontSize=12,\n",
    "    titleFontSize=12\n",
    ")\n",
    "candlestick_plot.interactive()"
   ]
  },
  {
   "cell_type": "code",
   "execution_count": 62,
   "id": "08856f40-2483-41af-8570-c8ab6cf8f2b4",
   "metadata": {},
   "outputs": [],
   "source": [
    "candlestick_plot.save(\"candlestick.html\")"
   ]
  },
  {
   "cell_type": "code",
   "execution_count": 69,
   "id": "6868f4c9-8467-40d2-bd41-3ebc47363187",
   "metadata": {},
   "outputs": [
    {
     "data": {
      "text/plain": [
       "'https://vega.github.io/editor/#/url/vega-lite/N4Igxg9gdgZglgcxALlANzgUwO4tJKAFzigFcJSBnAdTgBNCALFAZgAY2AacaYsiygAlMiRoVYcAvtwCGADziU8IADYyARphUAxXgGU4AL0woAjACZuxQisy6iB42fOTpqmQE9MAJxQBtUABbGW8Aa2VCDwAHE2QQb1JbEG5KI1jTN0woSDoSJFQeFQhfAoJc4mgIzEpxOLoZQlJAgDoIGKgAAgAeAF4O+saWsCLKE240GRVSWJAAYjYANgBOAA5zOhA3CamZ2ZlMUxZzAFZNqwgIFWIo-1B4LQ24otxuGGLg2uTmlhhkkEiYigQABHUgyIhwQgNOBoEzSO5YFSPECMUR-N7eD5AzjfX5WaIzUHg6zQ2GbAC63DkynkimUGKxcQApIJkEyALJ-NSaFQAQSgCCSyAAtCs2G57kigQARBqYYiBMb-SFCkCywjyuCKv4AmYawJRYqTM4gDw0hRKArWWz8wWxLjKmyYAAKMjouQFKHM4teiORzz+lDAk1ioGM3ggKBgk1GbmtMz0zoAmjqCUCiRCocQyW4POZ6X6gaiEMxXPCQMEwhE03F1CFA2kzD6QFkcnllJAiiV8NBynBKlbqp8Bk1Wu1un0R0MRkrttMgfNlmsNltJvO4nsDkdTnGLlc4DdkAEQJLkcMIKN0e8GtjcanAXEMyTs3DOAiHkC2lkr5ib3EcT896EmCmaknClIgNSBS0padzXp8LJspy3DclotpCqKzanjKcoKkq8Y4RqeFAUC+qGt4xq5gWH5xF+UAkY+IHPjCr6mvmBTYXE56XmWEEDDIyhQDI2p1A0MjCuYCwLCsdAAOwyCwmDmKYKzHMcpgLLJ0bHCwKxgCsCwACxqespiySajAiCWtTsA62D0EwKBig6AAkQaWcERaEIQUSUMgAD0-mwggMjNAgkKMKQ6jNP2-nuZgwRBZgIXCiokKYEFxzNGZzRsM0ABWlCVNw-GjIQsEgPxElSTJ8mKcpqnqZp2m6fpRkmXQZm3GquFajM3rmIZwpsMcElLAAKmwSzIOwyAcMNhlzWwfx0SgxwnM0mlLNtkmyccskrBY3DcbE61ZepxxsKYhlGSshksHtKEQLgyBnc0hmDassmyUs5hLNJKzcMWzCvZJuXeldSw6RYxzcN48qkN49EinlGmGUsB1sOYsksPde3luqmoiSAA1DSNY2TdNxlLQtS0re0a0bepHBTbJCzHAsJzHTOjMLM0ENXeY3qyWwLBHaoz2M1lLDLNt6lmSpj0omioN84ZpjbWsSymFdHOWPECNIygeXLCzg3q4ZiwnATvXE6Tw2jX94060tNNsItHD09+qv8yNV0iysqz3YD4A8z7lscOb11W7DEsvetfNXSzGPs5zsfA7zzTHHjV0KysSvw40RtzdlUMcDjg0Nfjb49URfVAvb5NOy7pjHG7HvLdwq3h59+c-X9APcxep1g7Jf2rO70lKwGoNZapms6RdadAyrCfNP920iyLYtcwbRfI3l7Do79mn7Yd1s14TxFxI3jsTS7s3ze7dNdwzPt7ccqzXcZO+xydme-W2ifPaB1xYzzXh-L+hkf4wxXiWRmslvjux2qfUB+tC6IwPtlWSltTAWCPlPY4Ns652yxmTO+zs2DIGpk-DuXtkZrxWLZMybBA53V0kPS8oNEGi0joAwhT146jxZhYYWotxYZ24fzceYobr51jhg4ueUBaiLYNvGGxCib9TIQ7CmeDXa0JfiAbu60eEQw1tDXe-8fat0jtA6Oy846ZxGkAj+88OHK3gVItRLMK4fRUiHRRyNhrNAMkA+WslFZEMvrbbRg1dHN1MMgVu7cjEmLBq3TeYtoGWM4SPNWP0J5yOnpLH2vCsb8PkXAkGEDbGSUanIwJhssFHF8Ucfx8jNHXxJjopu98kmPzYLTT2r9vZr0MoU2RAjQ7D0zjdSOGsx6p31uAjJzMOApz1unVeYMpKaz+jrVunM4bNJQCEyGUM7r-Smg9aJoAr71xvr0ih+iaFDOfiM4xb9xmXUFmIneeTM6f03mpdxJShF8w0vs7WutjmeJqaPT6bjP63JOfvY22Vj4LBYA9QOMcumPJ6fEvpztzAGPeXQ0ZDDdlTVWIvI5Viw5r1FujHG39clOLKTrDZbMtnVMzgsWlqkWBL13kEs5eV9qXVUeoi+9zYkN2eXoslKTDGfPSYnWyf0B5VJmVwxhAs-ENRDqsrKGNNaT11ZIte2toWHL1mizBGKDqbzFNjXGtyCWkOJS8slgzhmdy+WMsGaw2mVwCYC9+zltX-V1asvmCwNZyzwZEq1OzEFowxm6nGwdHXF3OSwV1WMc2epiSQuJ5DlXULbmqwNGrmjfQ4BY3+kbTG5SAddNSajz6CMzmzZOvLHHWuxkg1xoKUVNPRSXI4qwy7No0WWrRiqfV6JYOSgN9CEHtpBccMFf8mVg0MoHbaWMPXgszrpFmR61jn22V4ttLD1awrFaclGm0hX0q2V6itCT75rtVRStJ3zD27t+jiwt7CQ7WJtewPBEz5lLA8fG74Ed6lqUafyn21ysaLMkg6veTqS4TLwdrS2adv3Lsrc3Nd-qPl1uA3zQBKCQE9r1fk74tiyEWytr2mxsstb2rhcOxj49gFn3FuKt9ibj6nrxnc2uS6nkruo9W1J6qGPfENe041raR1Jx5cs2OyHd7DsQSooWPiAUEaUZtJYZt7FkblQp7pt89EdzU-R4NPCtWVKVtBsGG8MaWdgZyiB0bfN3oRRmiO11bpybzcEvKiwOC7pRdXeV5bKO-udotADG6qUAPZljaS6HB5saBXZ4rDSyvIc-pHEr2cyvCfXlc4VoqFGvpCaWjLimiVUfvotWjlKg3Ur5ruptAcg4eP82Nn6gdpVQys8ZpNW9xEmZ2XzMUY7UuIcnYR85TaLOyvkw871-WcuqdrZun2+0w0dKgweyFRks3Fo9Sa0pzLj590qSHZrUq-nBfQZ1vKltLoxsIRRpT52AMeeu2vTNmN3W5vK+HQVOGMZ4bhch-TrNDOYbXh1qdyiy73SWDApzp2f0kpSXlujcPD2y1Wy2lHjDgVtYZUZj7YNcb1eqysX76bS72e43CyTh9KuxaPXJyHfXsspKG0B4Nm3j7IsQ35x7Da-YsLYcj2rhaXtI48aZoXdiRdA6nSE7+lz0aCrVydhVUO5dtzeflkbfaRFHbW7pyFH6RUc9429NS233EC-vSG2lGNx27YSxKrOlW0ONc6eSVwQA'"
      ]
     },
     "execution_count": 69,
     "metadata": {},
     "output_type": "execute_result"
    }
   ],
   "source": [
    "candlestick_plot.to_url()"
   ]
  },
  {
   "cell_type": "code",
   "execution_count": null,
   "id": "9c07051a-57bc-4d05-b3f4-8a74552490e3",
   "metadata": {},
   "outputs": [],
   "source": []
  }
 ],
 "metadata": {
  "kernelspec": {
   "display_name": "Python 3 (ipykernel)",
   "language": "python",
   "name": "python3"
  },
  "language_info": {
   "codemirror_mode": {
    "name": "ipython",
    "version": 3
   },
   "file_extension": ".py",
   "mimetype": "text/x-python",
   "name": "python",
   "nbconvert_exporter": "python",
   "pygments_lexer": "ipython3",
   "version": "3.9.10"
  }
 },
 "nbformat": 4,
 "nbformat_minor": 5
}
